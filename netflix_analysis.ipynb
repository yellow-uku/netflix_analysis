{
 "cells": [
  {
   "cell_type": "code",
   "execution_count": null,
   "metadata": {},
   "outputs": [],
   "source": [
    "import numpy as np\n",
    "import pandas as pd\n",
    "\n",
    "import plotly.graph_objects as go"
   ]
  },
  {
   "cell_type": "code",
   "execution_count": null,
   "metadata": {},
   "outputs": [],
   "source": [
    "def\tchange_list(list_words):\n",
    "\tnew_words = []\n",
    "\tidx_last_comma = list_words[0].rfind(',')\n",
    "\tnew_words.append(list_words[0][0:idx_last_comma])\n",
    "\tnew_words.append(list_words[0][idx_last_comma + 1:])\n",
    "\tnew_words.append(list_words[1])\n",
    "\tnew_words.append(list_words[2].split(',')[0])\n",
    "\tnew_words.append(list_words[2].split(',')[1])\n",
    "\tnew_words.append(list_words[2].split(',')[2])\n",
    "\treturn new_words\n",
    "\t"
   ]
  },
  {
   "cell_type": "code",
   "execution_count": null,
   "metadata": {},
   "outputs": [],
   "source": [
    "def data_preprocessing(original_file, output_file):\n",
    "\twith open(original_file, encoding = \"ISO-8859-1\") as f_in, open(output_file, \"w\") as f_out:\n",
    "\t\tfor i, line in enumerate(f_in):\n",
    "\t\t\tif i == 0:\n",
    "\t\t\t\tline = line.replace(',', ';')\n",
    "\t\t\t\tprint(line)\n",
    "\t\t\t\tf_out.write(line)\n",
    "\t\t\telse:\n",
    "\t\t\t\t# проверка на валидную строку\n",
    "\t\t\t\tif line[0] == '\\\"' and line[-2] == '\\\"':\t\t\t\n",
    "\t\t\t\t\t# избавлюсь от \"\" \n",
    "\t\t\t\t\tnew_line = line[1:len(line) - 2] + '\\n'\n",
    "\t\t\t\t\t# поставлю разделитель ; вместо , чтобы не было конфликтов с запятыми в названии фильмов\n",
    "\t\t\t\t\tnew_line = new_line.replace('\\\"\\\"', ';')\n",
    "\t\t\t\t\tlist_words = new_line.split(';')\n",
    "\t\t\t\t\tfor i, words in enumerate(list_words):\n",
    "\t\t\t\t\t\twords = words.strip(',')\n",
    "\t\t\t\t\t\tlist_words[i] = words\n",
    "\t\t\t\t\t# разделю название фильма и жанр\n",
    "\t\t\t\t\tnew_line = ';'.join(change_list(list_words))\n",
    "\t\t\t\t\tprint(new_line)\n",
    "\t\t\t\t\tf_out.write(new_line)"
   ]
  },
  {
   "cell_type": "code",
   "execution_count": null,
   "metadata": {},
   "outputs": [],
   "source": [
    "data_preprocessing(\"src/NetflixOriginals.csv\", \"src/Netflix.csv\")"
   ]
  },
  {
   "cell_type": "code",
   "execution_count": null,
   "metadata": {},
   "outputs": [],
   "source": [
    "netflix = pd.read_csv(\"src/Netflix.csv\", encoding = \"ISO-8859-1\", delimiter=';')"
   ]
  },
  {
   "cell_type": "code",
   "execution_count": null,
   "metadata": {},
   "outputs": [],
   "source": [
    "netflix"
   ]
  },
  {
   "cell_type": "code",
   "execution_count": null,
   "metadata": {},
   "outputs": [],
   "source": [
    "netflix.shape"
   ]
  },
  {
   "cell_type": "markdown",
   "metadata": {},
   "source": [
    "# 1.Жанры фильмов"
   ]
  },
  {
   "cell_type": "markdown",
   "metadata": {},
   "source": [
    "Для визуалзации использую Bar Chart"
   ]
  },
  {
   "cell_type": "code",
   "execution_count": null,
   "metadata": {},
   "outputs": [],
   "source": [
    "# #Filter Genres\n",
    "# group_netflix = netflix.Genre.value_counts()\n",
    "# trace = go.Pie(labels=group_netflix.index, values=group_netflix.values)\n",
    "# layout = go.Layout(title=\"Genre of Netflix films\")\n",
    "# fig = go.Figure(data=[trace], layout=layout)\n",
    "# fig.update_layout(height=500,width=700)\n",
    "# fig.show()"
   ]
  },
  {
   "cell_type": "code",
   "execution_count": null,
   "metadata": {},
   "outputs": [],
   "source": []
  },
  {
   "cell_type": "code",
   "execution_count": null,
   "metadata": {},
   "outputs": [],
   "source": []
  }
 ],
 "metadata": {
  "interpreter": {
   "hash": "f6b8491cb0d7286f01f1ea87fbd91503139581fdf355a0205c6d327c238c853f"
  },
  "kernelspec": {
   "display_name": "Python 3.9.9 64-bit ('netflix-venv': venv)",
   "language": "python",
   "name": "python3"
  },
  "language_info": {
   "codemirror_mode": {
    "name": "ipython",
    "version": 3
   },
   "file_extension": ".py",
   "mimetype": "text/x-python",
   "name": "python",
   "nbconvert_exporter": "python",
   "pygments_lexer": "ipython3",
   "version": "3.9.9"
  },
  "orig_nbformat": 4
 },
 "nbformat": 4,
 "nbformat_minor": 2
}
